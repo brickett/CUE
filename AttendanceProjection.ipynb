{
 "cells": [
  {
   "cell_type": "markdown",
   "metadata": {},
   "source": [
    "# Make Panel Data"
   ]
  },
  {
   "cell_type": "code",
   "execution_count": 2,
   "metadata": {
    "collapsed": true,
    "scrolled": false
   },
   "outputs": [],
   "source": [
    "import pandas as pd\n",
    "import numpy as np\n",
    "import matplotlib.pyplot as plt\n",
    "import seaborn as sns\n",
    "import os\n",
    "\n",
    "mydir = os.getcwd()\n",
    "\n",
    "FY09 = pd.read_csv(os.path.join(mydir,'CSV', 'FY09.csv'),index_col=0)\n",
    "FY10 = pd.read_csv(os.path.join(mydir,'CSV', 'FY10.csv'),index_col=0)\n",
    "FY11 = pd.read_csv(os.path.join(mydir,'CSV', 'FY11.csv'),index_col=0)\n",
    "FY12 = pd.read_csv(os.path.join(mydir,'CSV', 'FY12.csv'),index_col=0)\n",
    "FY13 = pd.read_csv(os.path.join(mydir,'CSV', 'FY13.csv'),index_col=0)\n",
    "FY14 = pd.read_csv(os.path.join(mydir,'CSV', 'FY14.csv'),index_col=0)\n",
    "FY15 = pd.read_csv(os.path.join(mydir,'CSV', 'FY15.csv'),index_col=0)\n",
    "FY16 = pd.read_csv(os.path.join(mydir,'CSV', 'FY16.csv'),index_col=0)"
   ]
  },
  {
   "cell_type": "code",
   "execution_count": 3,
   "metadata": {
    "collapsed": true
   },
   "outputs": [],
   "source": [
    "#cleaning\n",
    "FY09 = FY09.dropna(axis=0, how='all')\n",
    "FY10 = FY10.dropna(axis=0, how='all')\n",
    "FY11 = FY11.dropna(axis=0, how='all')\n",
    "FY12 = FY12.dropna(axis=0, how='all')\n",
    "FY13 = FY13.dropna(axis=0, how='all')\n",
    "FY14 = FY14.dropna(axis=0, how='all')\n",
    "FY15 = FY15.dropna(axis=0, how='all')\n",
    "FY16 = FY16.dropna(axis=0, how='all')"
   ]
  },
  {
   "cell_type": "code",
   "execution_count": 11,
   "metadata": {
    "scrolled": false
   },
   "outputs": [],
   "source": [
    "#construct full index of school codes\n",
    "fullset = np.union1d(FY09.index.values,FY10.index.values)\n",
    "fullset = np.union1d(fullset,FY11.index.values)\n",
    "fullset = np.union1d(fullset,FY12.index.values)\n",
    "fullset = np.union1d(fullset,FY13.index.values)\n",
    "fullset = np.union1d(fullset,FY14.index.values)\n",
    "fullset = np.union1d(fullset,FY15.index.values)\n",
    "fullset = np.union1d(fullset,FY16.index.values)"
   ]
  },
  {
   "cell_type": "code",
   "execution_count": 17,
   "metadata": {},
   "outputs": [],
   "source": [
    "#construct multi-year dataset\n",
    "iterables = [[2009, 2010, 2011, 2012, 2013, 2014, 2015, 2016], fullset]\n",
    "allyears = pd.MultiIndex.from_product(iterables, names=['Year', 'SchoolID'])"
   ]
  },
  {
   "cell_type": "code",
   "execution_count": null,
   "metadata": {},
   "outputs": [],
   "source": [
    "#fill in new dataset with all school codes"
   ]
  },
  {
   "cell_type": "code",
   "execution_count": null,
   "metadata": {
    "collapsed": true
   },
   "outputs": [],
   "source": []
  }
 ],
 "metadata": {
  "kernelspec": {
   "display_name": "Python 3",
   "language": "python",
   "name": "python3"
  },
  "language_info": {
   "codemirror_mode": {
    "name": "ipython",
    "version": 3
   },
   "file_extension": ".py",
   "mimetype": "text/x-python",
   "name": "python",
   "nbconvert_exporter": "python",
   "pygments_lexer": "ipython3",
   "version": "3.6.1"
  }
 },
 "nbformat": 4,
 "nbformat_minor": 2
}
